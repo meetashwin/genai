{
 "cells": [
  {
   "cell_type": "code",
   "execution_count": null,
   "id": "ad774194-e960-4680-8aa2-91ff4b1b6434",
   "metadata": {
    "tags": []
   },
   "outputs": [],
   "source": [
    "# This notebook creates a Multi-Agent solution to write User stories and System tests for a Functional Business Requirement\n",
    "\n",
    "# CrewAI is used as the Multi-Agent framework \n",
    "# Three Agents - Business Analyst, System Tester, System Test Reviewer form the crew\n",
    "# Three Tasks - Write User Stories, Write System Tests, Review System Tests are performed by each of these agents\n",
    "\n",
    "# Claude Haiku (Anthropic) is used as the LLM by all these agents"
   ]
  },
  {
   "cell_type": "code",
   "execution_count": null,
   "id": "0b2fc0f6-e0f1-4f79-a38d-9f7e9089b60d",
   "metadata": {
    "tags": []
   },
   "outputs": [],
   "source": [
    "# Warning control\n",
    "import warnings\n",
    "warnings.filterwarnings('ignore')"
   ]
  },
  {
   "cell_type": "code",
   "execution_count": null,
   "id": "741928ba-7b4f-4b5a-9c37-1e91b6b2e8f1",
   "metadata": {
    "tags": []
   },
   "outputs": [],
   "source": [
    "# Install Crew AI, Tools, Langchain, Google Gemini\n",
    "!pip install crewai crewai_tools langchain_community langchain_anthropic --quiet\n",
    "print(\"---\")\n",
    "!pip show crewai crewai_tools langchain_community langchain_anthropic"
   ]
  },
  {
   "cell_type": "code",
   "execution_count": null,
   "id": "928ef987-dbcb-4f03-a202-59f26fc18b93",
   "metadata": {
    "tags": []
   },
   "outputs": [],
   "source": [
    "# Necessary imports\n",
    "import os\n",
    "from getpass import getpass\n",
    "from crewai import Agent, Task, Crew\n",
    "from langchain_anthropic import ChatAnthropic"
   ]
  },
  {
   "cell_type": "code",
   "execution_count": null,
   "id": "9a018fbb-7e6e-4e19-91eb-800918b6d10d",
   "metadata": {
    "tags": []
   },
   "outputs": [],
   "source": [
    "# Get API Key for Google Gemini\n",
    "os.environ[\"ANTHROPIC_API_KEY\"] = getpass(\"Enter ANTHROPIC_API_KEY: \")\n",
    "\n",
    "llm_claude = ChatAnthropic(model='claude-3-haiku-20240307', temperature=0.8)"
   ]
  },
  {
   "cell_type": "code",
   "execution_count": null,
   "id": "3fe1acb1-ea76-4c54-96a3-45da049abe8a",
   "metadata": {
    "tags": []
   },
   "outputs": [],
   "source": [
    "# Create our First Agent\n",
    "# Role = Business Analyst\n",
    "# Responsibility = Take a business requirement and come up with a set of Agile user stories \n",
    "\n",
    "business_analyst = Agent(\n",
    "    role=\"Business Analyst\",\n",
    "    goal=\"Write an accurate and complete set of agile user stories for the {requirement}\",\n",
    "    backstory=\"You're working on writing agile user stories \"\n",
    "              \"for the requirement: {requirement}. \"\n",
    "              \"You capture details in the user story that helps the \"\n",
    "              \"tester to ensure the software is built right \"\n",
    "              \"and complete in all aspects. \"\n",
    "              \"Your work is the basis for \"\n",
    "              \"the Tester to write system test cases for this requirement.\",\n",
    "    allow_delegation=False,\n",
    "\tverbose=True,\n",
    "    llm = llm_claude\n",
    ")"
   ]
  },
  {
   "cell_type": "code",
   "execution_count": null,
   "id": "68fe9a76-99dc-4d3f-a8f7-9d270987d2a1",
   "metadata": {
    "tags": []
   },
   "outputs": [],
   "source": [
    "# Create our Second Agent\n",
    "# Role = System Tester\n",
    "# Responsibility = Use the user stories created by the Business Analyst, come up with system test cases to test the user story implementation\n",
    "\n",
    "system_tester = Agent(\n",
    "    role=\"System Tester\",\n",
    "    goal=\"Write system test cases that will test all functionalities that are implemented through user stories, \"\n",
    "         \"which implements the requirement: {requirement}\",\n",
    "    backstory=\"You're working on creating \"\n",
    "              \"system test cases for the requirement: {requirement}. \"\n",
    "              \"You base your test cases on the work of \"\n",
    "              \"the Business Analyst, who provides the user stories \"\n",
    "              \"and relevant information about the requirement. \"\n",
    "              \"You follow the main features and \"\n",
    "              \"direction of the user story, \"\n",
    "              \"as provided by the Content Planner. \"\n",
    "              \"You must also ensure to cover boundary conditions and error scenarios \"\n",
    "              \"that are relevant to complete test the user stories \"\n",
    "              \"provide by the Business Analyst. \"\n",
    "              \"You must ensure that the system test cases \"\n",
    "              \"provide maxiumum coverage \"\n",
    "              \"to test all aspects of the requirement.\",\n",
    "    allow_delegation=False,\n",
    "    verbose=True,\n",
    "    llm = llm_claude\n",
    ")"
   ]
  },
  {
   "cell_type": "code",
   "execution_count": null,
   "id": "1078c27f-760d-413e-971e-b82c3c704684",
   "metadata": {
    "tags": []
   },
   "outputs": [],
   "source": [
    "# Creating our Final Agent\n",
    "# Role = System Test Reviewer\n",
    "# Responsibility = Review the system tests created by the System Tester, improve test coverage, scenarios etc.\n",
    "\n",
    "system_test_reviewer = Agent(\n",
    "    role=\"System Test Reviewer\",\n",
    "    goal=\"Review a given set of System Test Cases to align with \"\n",
    "         \"the standards of the organization and coverage to the user stories and requirement: {requirement} \",\n",
    "    backstory=\"You are an system test reviewer who receives a set of system test cases \"\n",
    "              \"from the System Tester. \"\n",
    "              \"Your goal is to review the system test cases \"\n",
    "              \"to ensure that it follows industry best practices, organization standards \"\n",
    "              \"provides balanced review \"\n",
    "              \"when providing improvement or suggestions, \"\n",
    "              \"and also ensures highest cover based on the \"\n",
    "              \"user stories that are written by the Business Analyst.\",\n",
    "    allow_delegation=False,\n",
    "    verbose=True,\n",
    "    llm = llm_claude\n",
    ")"
   ]
  },
  {
   "cell_type": "code",
   "execution_count": null,
   "id": "75fe6ea7-2312-492d-b36a-5c55e1da224c",
   "metadata": {
    "tags": []
   },
   "outputs": [],
   "source": [
    "# Define the task that will be assigned to the Business Analyst\n",
    "\n",
    "write_stories = Task(\n",
    "    description=(\n",
    "        \"1. Understand the functional business requirement \"\n",
    "            \"and relevant context on the requirement {requirement}.\\n\"\n",
    "        \"2. Identify the users or business stakeholders involved in the requirement considering \"\n",
    "            \"their interests and outcomes relevant to the requirement.\\n\"\n",
    "        \"3. Develop a set of agile user stories that wil help to \"\n",
    "            \"implement the requirement as a software product.\\n\"\n",
    "        \"4. Include assumptions, acceptance criteria, error conditions as part of the generated user stories.\"\n",
    "    ),\n",
    "    expected_output=\"A comprehensive set of agile user stories using As [a user persona], I want [to perform this action] so that [I can accomplish this goal] format \"\n",
    "        \"with description, outcomes, acceptance criteria, \"\n",
    "        \"assumptions, and error conditions.\",\n",
    "    agent=business_analyst,\n",
    ")"
   ]
  },
  {
   "cell_type": "code",
   "execution_count": null,
   "id": "5ea31fbc-4582-4f1f-a347-a134eab3215c",
   "metadata": {
    "tags": []
   },
   "outputs": [],
   "source": [
    "# Define the task that will be assigned to the Content Writer\n",
    "\n",
    "write_tests = Task(\n",
    "    description=(\n",
    "        \"1. Use the user stories created by Business Analyst to create a set of \"\n",
    "            \"System test cases for the requirement {requirement}.\\n\"\n",
    "        \"2. Ensure coverage for all scenarios described in the user stories.\\n\"\n",
    "\t\t\"3. Error conditions and edge cases must be captured \"\n",
    "            \"to ensure completeness with the tests.\\n\"\n",
    "        \"4. Ensure the test cases are structured as \"\n",
    "            \"test case id, test description, pre-conditions, test steps, expected results, \"\n",
    "            \"test data, actual results and test status.  Leave actual results and test status empty, to be filled during execution\\n\"\n",
    "        \"5. Proofread for grammatical errors and \"\n",
    "            \"alignment with the brand's voice.\\n\"\n",
    "    ),\n",
    "    expected_output=\"A well-written set of system test cases \"\n",
    "        \"that covers all functionalities described in the user stories, \"\n",
    "        \"with a well-defined test description, pre-conditions, test steps, expected results, test data, actual results and test status.\",\n",
    "    agent=system_tester,\n",
    ")"
   ]
  },
  {
   "cell_type": "code",
   "execution_count": null,
   "id": "fb609a69-01e4-4b48-83c7-455b1efbde87",
   "metadata": {
    "tags": []
   },
   "outputs": [],
   "source": [
    "# Define the task that will be assigned to the Content Editor\n",
    "\n",
    "review_tests = Task(\n",
    "    description=(\"Review the system test cases generated by System Tester for \"\n",
    "                 \"completeness, coverage against user stories and \"\n",
    "                 \"conformance to the requirement {requirement}\"),\n",
    "    expected_output=\"A well-written and reviewed system test cases in markdown format, \"\n",
    "                    \"ready for test execution. \",\n",
    "    agent=system_test_reviewer\n",
    ")"
   ]
  },
  {
   "cell_type": "code",
   "execution_count": null,
   "id": "33aae1a2-1462-4739-97ba-04ccaadc78c3",
   "metadata": {
    "tags": []
   },
   "outputs": [],
   "source": [
    "# Bring all agents and tasks together into a Crew\n",
    "\n",
    "crew = Crew(\n",
    "    agents=[business_analyst, system_tester, system_test_reviewer],\n",
    "    tasks=[write_stories, write_tests, review_tests],\n",
    "    verbose=2\n",
    ")"
   ]
  },
  {
   "cell_type": "code",
   "execution_count": null,
   "id": "e4ab6907-cf8c-4ed0-a699-3e5005513cdb",
   "metadata": {
    "tags": []
   },
   "outputs": [],
   "source": [
    "# Run the tasks in sequence for the topic provided here\n",
    "\n",
    "result = crew.kickoff(inputs={\"requirement\": \"The system must allow blog visitors to sign up for the newsletter by leaving their email.\"})"
   ]
  },
  {
   "cell_type": "code",
   "execution_count": null,
   "id": "005c0ade-bb31-40bf-9840-cd1bb507dc14",
   "metadata": {
    "tags": []
   },
   "outputs": [],
   "source": [
    "from IPython.display import Markdown\n",
    "Markdown(result)"
   ]
  },
  {
   "cell_type": "code",
   "execution_count": null,
   "id": "a3b085a0-d945-4998-8a9a-685991ff8f1a",
   "metadata": {},
   "outputs": [],
   "source": [
    "requirement = \"The system must allow users to verify their accounts using their phone number\"\n",
    "result = crew.kickoff(inputs={\"requirement\": requirement})"
   ]
  },
  {
   "cell_type": "code",
   "execution_count": null,
   "id": "9ef8ec48-7b1b-45b3-a247-1d5b0fce1dfe",
   "metadata": {},
   "outputs": [],
   "source": [
    "Markdown(result)"
   ]
  }
 ],
 "metadata": {
  "kernelspec": {
   "display_name": "Python 3 (ipykernel)",
   "language": "python",
   "name": "python3"
  },
  "language_info": {
   "codemirror_mode": {
    "name": "ipython",
    "version": 3
   },
   "file_extension": ".py",
   "mimetype": "text/x-python",
   "name": "python",
   "nbconvert_exporter": "python",
   "pygments_lexer": "ipython3",
   "version": "3.11.4"
  }
 },
 "nbformat": 4,
 "nbformat_minor": 5
}
